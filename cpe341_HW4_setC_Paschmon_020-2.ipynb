{
 "cells": [
  {
   "cell_type": "markdown",
   "metadata": {},
   "source": [
    "# CPE-341, Quiz 2/2015 \n",
    "# Question Set C\n",
    "\n",
    "- Iteration Design Pattern : List, Dictionary\n",
    "- Using Class `Die` in a List"
   ]
  },
  {
   "cell_type": "code",
   "execution_count": 1,
   "metadata": {
    "collapsed": false
   },
   "outputs": [
    {
     "data": {
      "text/html": [
       "<style>\n",
       "@import url('http://fonts.googleapis.com/css?family=Crimson+Text');\n",
       "@import url('http://fonts.googleapis.com/css?family=Kameron');\n",
       "@import url('http://fonts.googleapis.com/css?family=Lato:200,300,400');\n",
       "@import url('http://fonts.googleapis.com/css?family=Source+Code+Pro');\n",
       "@import url(https://fonts.googleapis.com/css?family=Droid+Sans);\n",
       "\n",
       ".rendered_html {\n",
       "    font-family: \"Droid Sans\", helvetica;\n",
       "    font-size: 110%;\n",
       "    line-height: 1.3;\n",
       "}\n",
       "\n",
       ".rendered_html h1 {\n",
       "    margin: 0.25em 0em 0.5em;\n",
       "    color: #015C9C;\n",
       "    text-align: center;\n",
       "    line-height: 1.2; \n",
       "    page-break-before: always;\n",
       "}\n",
       "\n",
       ".rendered_html h2 {\n",
       "    margin: 1.1em 0em 0.5em;\n",
       "    color: #26465D;\n",
       "    line-height: 1.2;\n",
       "}\n",
       "\n",
       ".rendered_html h3 {\n",
       "    margin: 1.1em 0em 0.5em;\n",
       "    color: #002845;\n",
       "    line-height: 1.2;\n",
       "}\n",
       "\n",
       ".rendered_html li {\n",
       "    line-height: 1.5; \n",
       "}\n",
       "\n",
       "/*.prompt {\n",
       "    font-size: 120%; \n",
       "}*/\n",
       "\n",
       ".CodeMirror-lines {\n",
       "\tfont-family: 'Source Code Pro', Consolas, monocco, monospace; /* Kittima added*/\n",
       "    font-size: 110%; \n",
       "}\n",
       "\n",
       "/*.output_area {\n",
       "    font-size: 120%; \n",
       "}*/\n",
       "\n",
       "/*#notebook {\n",
       "    background-image: url('files/images/witewall_3.png');\n",
       "}*/\n",
       "\n",
       "h1.bigtitle {\n",
       "    margin: 4cm 1cm 4cm 1cm;\n",
       "    font-size: 300%;\n",
       "}\n",
       "\n",
       "h3.point {\n",
       "    font-size: 200%;\n",
       "    text-align: center;\n",
       "    margin: 2em 0em 2em 0em;\n",
       "    #26465D\n",
       "}\n",
       "\n",
       ".logo {\n",
       "    margin: 20px 0 20px 0;\n",
       "}\n",
       "\n",
       "a.anchor-link {\n",
       "    display: none;\n",
       "}\n",
       "\n",
       "h1.title { \n",
       "    font-size: 250%;\n",
       "}\n",
       "\n",
       "\n",
       "/* Kittima added */\n",
       "div.text_cell_render h1,  \n",
       "div.text_cell_render h2,  \n",
       "div.text_cell_render h3,  \n",
       "div.text_cell_render h4,  \n",
       "div.text_cell_render h5,  \n",
       "div.text_cell_render h6 {  \n",
       "    font-family: 'Droid Sans';\n",
       "}\n",
       "\n",
       "div.text_cell {  \n",
       "    max-width: 105ex; /* instead of 100%, */\n",
       "}\n",
       "\n",
       "code {\n",
       "\t/* background-color : #fffffa !important;  */\n",
       "\tbackground-color : #f5f5f5 !important;\n",
       "}\n",
       "</style>"
      ],
      "text/plain": [
       "<IPython.core.display.HTML object>"
      ]
     },
     "metadata": {},
     "output_type": "display_data"
    }
   ],
   "source": [
    "%reload_ext load_style\n",
    "%load_style talk.css"
   ]
  },
  {
   "cell_type": "code",
   "execution_count": 12,
   "metadata": {
    "collapsed": false
   },
   "outputs": [
    {
     "data": {
      "text/plain": [
       "'2017-02-18T17:17:29.654088'"
      ]
     },
     "execution_count": 12,
     "metadata": {},
     "output_type": "execute_result"
    }
   ],
   "source": [
    "## รหัสประจำตัวนักศึกษา :57113020-2\n",
    "## ชื่อนักศึกษา :พัชมล  บุญฤทธิ์\n",
    "##\n",
    "## คลิก Run cell นี้เพียงครั้งเดียว\n",
    "##\n",
    "##\n",
    "import datetime\n",
    "datetime.datetime.now().isoformat()"
   ]
  },
  {
   "cell_type": "markdown",
   "metadata": {},
   "source": [
    "## Question 1 ( @2 pt x 2 = 4 pts )\n",
    "\n",
    "### Q1.a \n",
    "จงเขียนคำสั่ง เพื่อพิมพ์ค่าเงินด้วย k = \"50Y\" จาก dict `๋JP_COINS` ซึ่งเก็บค่าเงินของเหรียญเงินเยนญี่ปุ่น"
   ]
  },
  {
   "cell_type": "code",
   "execution_count": 13,
   "metadata": {
    "collapsed": true
   },
   "outputs": [],
   "source": [
    "## ไม่แก้ไขข้อมูลใน cell นี้\n",
    "## dict ที่เก็บรหัสประเภทเหรียญของเงินเยน 6 ชนิด และมูลค่าของเงิน\n",
    "## เช่น key ที่ '50Y' จะมีค่า 50 เยน\n",
    "\n",
    "JP_COINS = { \"1Y\": 1, \"5Y\": 5, \"10Y\": 10, \"50Y\": 50, \"100Y\": 100, \"500Y\": 500 }"
   ]
  },
  {
   "cell_type": "code",
   "execution_count": 14,
   "metadata": {
    "collapsed": false
   },
   "outputs": [
    {
     "name": "stdout",
     "output_type": "stream",
     "text": [
      "50\n"
     ]
    }
   ],
   "source": [
    "## ANSWER Q1.a\n",
    "##\n",
    "##\n",
    "k = \"50Y\"\n",
    "print(JP_COINS[k])"
   ]
  },
  {
   "cell_type": "markdown",
   "metadata": {},
   "source": [
    "### Q1.b \n",
    "จงเขียนคำสั่ง เพื่อพิมพ์ตัวเลขที่มีค่ามากกว่า 50 เยนจาก **dict** ในข้อ (1.a)"
   ]
  },
  {
   "cell_type": "code",
   "execution_count": 19,
   "metadata": {
    "collapsed": false
   },
   "outputs": [
    {
     "name": "stdout",
     "output_type": "stream",
     "text": [
      "500\n",
      "100\n"
     ]
    }
   ],
   "source": [
    "## ANSWER Q1.b\n",
    "##\n",
    "##\n",
    "for value in JP_COINS:\n",
    "    if JP_COINS[value]>50:\n",
    "        print (JP_COINS[value])\n",
    "    \n",
    "\n",
    "\n"
   ]
  },
  {
   "cell_type": "code",
   "execution_count": null,
   "metadata": {
    "collapsed": true
   },
   "outputs": [],
   "source": []
  },
  {
   "cell_type": "markdown",
   "metadata": {},
   "source": [
    "## Question 2 ( @3 pts x 4 = 12 pts )\n",
    "\n",
    "### Q2.a \n",
    "จงสร้าง **list** เพื่อเก็บข้อมูลตัวเลขลำดับ 11 ... 39  โดยใข้ `range`"
   ]
  },
  {
   "cell_type": "code",
   "execution_count": 5,
   "metadata": {
    "collapsed": false
   },
   "outputs": [
    {
     "name": "stdout",
     "output_type": "stream",
     "text": [
      "11\n",
      "12\n",
      "13\n",
      "14\n",
      "15\n",
      "16\n",
      "17\n",
      "18\n",
      "19\n",
      "20\n",
      "21\n",
      "22\n",
      "23\n",
      "24\n",
      "25\n",
      "26\n",
      "27\n",
      "28\n",
      "29\n",
      "30\n",
      "31\n",
      "32\n",
      "33\n",
      "34\n",
      "35\n",
      "36\n",
      "37\n",
      "38\n"
     ]
    }
   ],
   "source": [
    "## ANSWER Q2.a\n",
    "##\n",
    "##\n",
    "for i in range(11,39):\n",
    "    print(i)"
   ]
  },
  {
   "cell_type": "markdown",
   "metadata": {},
   "source": [
    "### Q2.b \n",
    "จงสร้าง **list** เพื่อเก็บ**ตัวเลขสุ่ม** ในช่วง 1-99 จำนวน 10 ตัวเลข โดยใข้ฟังก์ชั่น `randint` จากไลบรารี `random`"
   ]
  },
  {
   "cell_type": "code",
   "execution_count": 6,
   "metadata": {
    "collapsed": false
   },
   "outputs": [
    {
     "name": "stdout",
     "output_type": "stream",
     "text": [
      "50\n",
      "88\n",
      "66\n",
      "60\n",
      "12\n",
      "9\n",
      "69\n",
      "34\n",
      "81\n",
      "53\n"
     ]
    }
   ],
   "source": [
    "## ANSWER Q2.b\n",
    "##\n",
    "from random import randint \n",
    "\n",
    "from random import randint \n",
    "for i in range(0,10):\n",
    "    Listrandom = randint(1,99)\n",
    "    print(Listrandom)\n",
    "    \n",
    "\n"
   ]
  },
  {
   "cell_type": "code",
   "execution_count": null,
   "metadata": {
    "collapsed": true
   },
   "outputs": [],
   "source": []
  },
  {
   "cell_type": "markdown",
   "metadata": {},
   "source": [
    "### Q2.c \n",
    "จงหาผลรวมของ **list** ต่อไปนี้แล้วเก็บผลลัธ์ไว้ที่ตัวแปร myTotal โดยใข้ฟังก์ชั่น `sum`\n",
    "\n",
    "```\n",
    "myTest = [98, 99, 88, 86, 92]\n",
    "```"
   ]
  },
  {
   "cell_type": "code",
   "execution_count": 7,
   "metadata": {
    "collapsed": false
   },
   "outputs": [
    {
     "name": "stdout",
     "output_type": "stream",
     "text": [
      "463\n"
     ]
    }
   ],
   "source": [
    "## ANSWER Q2.c\n",
    "##\n",
    "##\n",
    "\n",
    "myTest = [98, 99, 88, 86, 92]\n",
    "myTotal = sum(myTest)\n",
    "print(myTotal)\n",
    "\n"
   ]
  },
  {
   "cell_type": "code",
   "execution_count": null,
   "metadata": {
    "collapsed": true
   },
   "outputs": [],
   "source": []
  },
  {
   "cell_type": "markdown",
   "metadata": {},
   "source": [
    "### Q2.d \n",
    "จงเขียน `def` ชื่อ `sum1_to_N` สำหรับหาผลรวมของเลข integer จาก 1 จนถึง **n** ซึ่งเป็น argument ของฟังก์ชั่น\n",
    "\n",
    "เช่น เมื่อเรียกใช้ `sum1_to_N( n )` จะได้ผลลัพธ์เป็น $ 1 + 2 + 3 + ....  + (n-2) + (n-1) + n $\n"
   ]
  },
  {
   "cell_type": "code",
   "execution_count": 22,
   "metadata": {
    "collapsed": false
   },
   "outputs": [],
   "source": [
    "## ANSWER Q2.d\n",
    "## \n",
    "def sum1_to_N(n):\n",
    "    e = (n/2)*(n+1)\n",
    "    return e\n",
    "\n"
   ]
  },
  {
   "cell_type": "code",
   "execution_count": 23,
   "metadata": {
    "collapsed": false
   },
   "outputs": [
    {
     "name": "stdout",
     "output_type": "stream",
     "text": [
      "Sum of [1 ... 100] = 500500.0\n"
     ]
    }
   ],
   "source": [
    "## Test sum1_to_N()\n",
    "## the result must be 500500\n",
    "##\n",
    "result = sum1_to_N(1000)\n",
    "print( \"Sum of [1 ... {}] = {}\".format(100, result)) "
   ]
  },
  {
   "cell_type": "code",
   "execution_count": 24,
   "metadata": {
    "collapsed": false
   },
   "outputs": [
    {
     "data": {
      "text/plain": [
       "120.0"
      ]
     },
     "execution_count": 24,
     "metadata": {},
     "output_type": "execute_result"
    }
   ],
   "source": [
    "## Test sum1_to_N() again\n",
    "## the result must be 120\n",
    "##\n",
    "sum1_to_N(15)"
   ]
  },
  {
   "cell_type": "markdown",
   "metadata": {},
   "source": [
    "## Question 3 ( @6 pts x 2 = 12 pts )\n",
    "\n",
    "### Q3.a \n",
    "กำหนดให้ **dict** `THAI_COINS` เก็บค่าเงินของเหรียญไทย 6 ชนิด (ใช้ในคำถาม Q3.b)\n",
    "\n",
    "จงหาจำนวนเหรียญทั้งหมดใน list `my_piggy` ซึ่งเป็นกระปุกเงินเก็บเหรียญ เก็บผลลัพธ์ที่ตัวแปร `count`"
   ]
  },
  {
   "cell_type": "code",
   "execution_count": 25,
   "metadata": {
    "collapsed": false
   },
   "outputs": [],
   "source": [
    "## ไม่แก้ไขข้อมูลใน cell นี้\n",
    "## dict ที่เก็บรหัสประเภทเหรียญของเงินบาท 6 ชนิด และมูลค่าของเงิน\n",
    "## เช่น key ที่ '50S' จะมีค่า 0.50 บาท\n",
    "##\n",
    "\n",
    "THAI_COINS = {\n",
    "    \"25S\": 0.25, \"50S\": 0.50, \"1B\": 1, \"2B\": 2, \"5B\": 5, \"10B\": 10\n",
    "}\n",
    "\n",
    "## mypiggy keeps the number of Thai coins \n",
    "my_piggy = {\n",
    "    \"5B\": 31, \"10B\": 6, \"50S\": 8, \"1B\": 14, \"2B\": 10\n",
    "}"
   ]
  },
  {
   "cell_type": "code",
   "execution_count": 27,
   "metadata": {
    "collapsed": false
   },
   "outputs": [
    {
     "name": "stdout",
     "output_type": "stream",
     "text": [
      "69\n"
     ]
    }
   ],
   "source": [
    "## ANSWER Q3.a\n",
    "##\n",
    "##\n",
    "count = 0\n",
    "my_piggy = { \"5B\": 31, \"10B\": 6, \"50S\": 8, \"1B\": 14, \"2B\": 10}\n",
    "count = my_piggy[\"5B\"]+my_piggy[\"10B\"]+my_piggy[\"50S\"]+my_piggy[\"1B\"]+my_piggy[\"2B\"]\n",
    "print(count)\n",
    "\n"
   ]
  },
  {
   "cell_type": "code",
   "execution_count": 28,
   "metadata": {
    "collapsed": false
   },
   "outputs": [
    {
     "name": "stdout",
     "output_type": "stream",
     "text": [
      "จำนวนเหรียญ : 69\n"
     ]
    }
   ],
   "source": [
    "print(\"จำนวนเหรียญ : {}\".format(count) )"
   ]
  },
  {
   "cell_type": "markdown",
   "metadata": {},
   "source": [
    "### Q3.b\n",
    "จงหามูลค่าของเงินทั้งหมดใน list `my_piggy` (หน่วย: บาท)"
   ]
  },
  {
   "cell_type": "code",
   "execution_count": 32,
   "metadata": {
    "collapsed": false
   },
   "outputs": [
    {
     "name": "stdout",
     "output_type": "stream",
     "text": [
      "253.0\n"
     ]
    }
   ],
   "source": [
    "## ANSWER Q3.b\n",
    "##\n",
    "## \n",
    "\n",
    "total = 0.\n",
    "## -------- add your code here\n",
    "THAI_COINS = {\"25S\": 0.25, \"50S\": 0.50, \"1B\": 1, \"2B\": 2, \"5B\": 5, \"10B\": 10}\n",
    "total = my_piggy[\"5B\"]*THAI_COINS[\"5B\"]+my_piggy[\"10B\"]*THAI_COINS[\"10B\"]+my_piggy[\"50S\"]*THAI_COINS[\"50S\"]+my_piggy[\"1B\"]*THAI_COINS[\"1B\"]+my_piggy[\"2B\"]*THAI_COINS[\"2B\"]\n",
    "\n",
    "\n",
    "print(total)\n",
    "\n"
   ]
  },
  {
   "cell_type": "code",
   "execution_count": 18,
   "metadata": {
    "collapsed": false
   },
   "outputs": [
    {
     "name": "stdout",
     "output_type": "stream",
     "text": [
      "จำนวนเหรียญ : 253.0 บาท\n"
     ]
    }
   ],
   "source": [
    "print(\"จำนวนเหรียญ : {} บาท\".format(total) )"
   ]
  },
  {
   "cell_type": "markdown",
   "metadata": {},
   "source": [
    "## Question 4 ( @6 pts x 2 = 12 pts )\n",
    "\n",
    "### Q4.a \n",
    "จาก class `Die` ที่กำหนดให้ จงสร้างลูกเต๋าเก็บไว้ใน list ชื่อ `my4dice` สี่ลูก แล้วหาค่าผลรวมของหน้าลูกเต๋าสี่ลูกนั้น"
   ]
  },
  {
   "cell_type": "code",
   "execution_count": 43,
   "metadata": {
    "collapsed": true
   },
   "outputs": [],
   "source": [
    "## ไม่แก้ไขข้อมูลใน cell นี้\n",
    "from random import randint\n",
    "\n",
    "class Die(object):\n",
    "    def __init__(self):\n",
    "        \"\"\" สร้างลูกเต๋า 1 ลุก 6 หน้า ที่มีค่าเริ่มต้นค่าสุ่ม 1..6 \"\"\"\n",
    "        self.__face = randint(1,6)\n",
    "    @property\n",
    "    def face(self):\n",
    "        \"\"\" return เลขหน้าลูกเต๋า 1..6 \"\"\"\n",
    "        return self.__face\n",
    "    \n",
    "    def roll(self):\n",
    "        \"\"\" ทอดลุกเต๋า เลขหน้าลูกเต๋าจะเปลี่ยนด้วยค่า random 1..6 \"\"\"\n",
    "        self.__face = randint(1,6)\n",
    "        \n",
    "    def __str__(self):\n",
    "        \"\"\" return ข้อความ str, พร้อมกับเลขหน้าลูกเต๋า \"\"\"\n",
    "        return ( \"Die face: {}\".format(self.__face) )\n",
    "        "
   ]
  },
  {
   "cell_type": "code",
   "execution_count": 44,
   "metadata": {
    "collapsed": false
   },
   "outputs": [
    {
     "data": {
      "text/plain": [
       "1"
      ]
     },
     "execution_count": 44,
     "metadata": {},
     "output_type": "execute_result"
    }
   ],
   "source": [
    "## ตัวอย่างการสร้างลูกเต๋า\n",
    "d1 = Die()\n",
    "d1.face     # เรียกใช้ @property face"
   ]
  },
  {
   "cell_type": "code",
   "execution_count": 45,
   "metadata": {
    "collapsed": false
   },
   "outputs": [
    {
     "name": "stdout",
     "output_type": "stream",
     "text": [
      "Die face: 2\n"
     ]
    }
   ],
   "source": [
    "## ตัวอย่างการสร้างลูกเต๋า\n",
    "d2 = Die()\n",
    "print(d2)   # พิมพ์ข้อมูลลูกเต๋า d2"
   ]
  },
  {
   "cell_type": "code",
   "execution_count": 46,
   "metadata": {
    "collapsed": false
   },
   "outputs": [
    {
     "name": "stdout",
     "output_type": "stream",
     "text": [
      "Help on class Die in module __main__:\n",
      "\n",
      "class Die(builtins.object)\n",
      " |  Methods defined here:\n",
      " |  \n",
      " |  __init__(self)\n",
      " |      สร้างลูกเต๋า 1 ลุก 6 หน้า ที่มีค่าเริ่มต้นค่าสุ่ม 1..6\n",
      " |  \n",
      " |  __str__(self)\n",
      " |      return ข้อความ str, พร้อมกับเลขหน้าลูกเต๋า\n",
      " |  \n",
      " |  roll(self)\n",
      " |      ทอดลุกเต๋า เลขหน้าลูกเต๋าจะเปลี่ยนด้วยค่า random 1..6\n",
      " |  \n",
      " |  ----------------------------------------------------------------------\n",
      " |  Data descriptors defined here:\n",
      " |  \n",
      " |  __dict__\n",
      " |      dictionary for instance variables (if defined)\n",
      " |  \n",
      " |  __weakref__\n",
      " |      list of weak references to the object (if defined)\n",
      " |  \n",
      " |  face\n",
      " |      return เลขหน้าลูกเต๋า 1..6\n",
      "\n"
     ]
    }
   ],
   "source": [
    "help(Die)"
   ]
  },
  {
   "cell_type": "code",
   "execution_count": 70,
   "metadata": {
    "collapsed": false
   },
   "outputs": [
    {
     "name": "stdout",
     "output_type": "stream",
     "text": [
      "1\n",
      "4\n",
      "5\n",
      "5\n",
      "ผลรวมของของหน้าลูกเต๋า : 15 \n"
     ]
    }
   ],
   "source": [
    "## ANSWER Q4.a\n",
    "##\n",
    "## สร้างลูกเต๋าเก็บไว้ใน list ชื่อ `my4dice` สี่ลูก \n",
    "## แล้วหาค่าผลรวมของหน้าลูกเต๋าสี่ลูกนั้น\n",
    "## \n",
    "\n",
    "my4dice=[\"d01\",\"d02\",\"d03\",\"d04\"]\n",
    "my4dice[0]= Die()\n",
    "my4dice[1]= Die()\n",
    "my4dice[2]= Die()\n",
    "my4dice[3]= Die()\n",
    "print (my4dice[0].face)\n",
    "print (my4dice[1].face)\n",
    "print (my4dice[2].face)\n",
    "print (my4dice[3].face)\n",
    "whan = (my4dice[0].face+my4dice[1].face+my4dice[2].face+my4dice[3].face)\n",
    "print(\"ผลรวมของของหน้าลูกเต๋า : {} \".format(whan) )\n",
    "\n"
   ]
  },
  {
   "cell_type": "code",
   "execution_count": null,
   "metadata": {
    "collapsed": true
   },
   "outputs": [],
   "source": []
  },
  {
   "cell_type": "markdown",
   "metadata": {},
   "source": [
    "### Q4.b \n",
    "จงปรับปรุุง def `printDice2x1000Stat` เพื่อหาสถิติ (เปอร์เซ็นต์) ของการทอดลูกเต๋า จำนวน 1,000 ครั้ง ที่**ลูกเต๋าสองลูก**มีเลขหน้าตรงกัน โดยพิมพ์สถิติของหน้าลุกเต๋า`"
   ]
  },
  {
   "cell_type": "code",
   "execution_count": 71,
   "metadata": {
    "collapsed": false
   },
   "outputs": [
    {
     "name": "stdout",
     "output_type": "stream",
     "text": [
      "2\n",
      "1\n"
     ]
    }
   ],
   "source": [
    "# ตัวอย่างการทดอลูกเต๋า\n",
    "d1 = Die()\n",
    "print( d1.face )\n",
    "\n",
    "d1.roll()   #ทอดลูกเต๋า 1 ครั้ง\n",
    "print( d1.face )"
   ]
  },
  {
   "cell_type": "code",
   "execution_count": 73,
   "metadata": {
    "collapsed": false
   },
   "outputs": [],
   "source": [
    "## ANSWER Q4.b\n",
    "##\n",
    "\n",
    "def printDice2x1000Stat( die1, die2 ):\n",
    "    count = 0  # จะเก็บจำนวนครั้งที่ทอดลูกเต๋า แล้วได้เลขหน้า (face) ตรงกัน\n",
    "               # die1.face เป็น 2, die1.face เป็น 2 ด้วย\n",
    "    \n",
    "    numberRolls = 1000\n",
    "    for i in range(numberRolls):\n",
    "        die1.roll()\n",
    "        die2.roll()\n",
    "        if die1.face==die2.face:\n",
    "            count+=1\n",
    "    \n",
    "    \n",
    "    \n",
    "            \n",
    "    print(\"Number of rolls.....: {:>5d}\".format(numberRolls))\n",
    "    print(\"Count of same face..: {:>5d}\".format(count))\n",
    "    percentage = 100. * count / numberRolls\n",
    "    print(\"Same face ..........: {:>.1f}%\".format(percentage))\n"
   ]
  },
  {
   "cell_type": "code",
   "execution_count": 78,
   "metadata": {
    "collapsed": false
   },
   "outputs": [
    {
     "name": "stdout",
     "output_type": "stream",
     "text": [
      "Number of rolls.....:  1000\n",
      "Count of same face..:   160\n",
      "Same face ..........: 16.0%\n"
     ]
    }
   ],
   "source": [
    "#--- Test the def printDice2x1000Stat ---\n",
    "d1 = Die()\n",
    "d2 = Die() \n",
    "printDice2x1000Stat(d1, d2)\n"
   ]
  },
  {
   "cell_type": "code",
   "execution_count": null,
   "metadata": {
    "collapsed": false
   },
   "outputs": [],
   "source": []
  },
  {
   "cell_type": "code",
   "execution_count": null,
   "metadata": {
    "collapsed": true
   },
   "outputs": [],
   "source": []
  },
  {
   "cell_type": "code",
   "execution_count": 79,
   "metadata": {
    "collapsed": false
   },
   "outputs": [
    {
     "data": {
      "text/plain": [
       "'2017-02-18T17:52:08.605012'"
      ]
     },
     "execution_count": 79,
     "metadata": {},
     "output_type": "execute_result"
    }
   ],
   "source": [
    "import datetime\n",
    "datetime.datetime.now().isoformat()\n",
    "##\n",
    "## รหัสประจำตัวนักศึกษา :57113020-2\n",
    "##\n",
    "## แล้วคลิก Run cell ครั้งเดียว เมื่อส่งงาน"
   ]
  },
  {
   "cell_type": "markdown",
   "metadata": {},
   "source": [
    "## end of IPynb"
   ]
  }
 ],
 "metadata": {
  "kernelspec": {
   "display_name": "Python 3",
   "language": "python",
   "name": "python3"
  },
  "language_info": {
   "codemirror_mode": {
    "name": "ipython",
    "version": 3
   },
   "file_extension": ".py",
   "mimetype": "text/x-python",
   "name": "python",
   "nbconvert_exporter": "python",
   "pygments_lexer": "ipython3",
   "version": "3.4.4"
  }
 },
 "nbformat": 4,
 "nbformat_minor": 0
}
